{
 "cells": [
  {
   "cell_type": "markdown",
   "metadata": {},
   "source": [
    "# Awesome basics that you can't live without when using Scitkit-learn"
   ]
  },
  {
   "cell_type": "code",
   "execution_count": 2,
   "metadata": {
    "collapsed": true
   },
   "outputs": [],
   "source": [
    "import sklearn"
   ]
  },
  {
   "cell_type": "markdown",
   "metadata": {},
   "source": [
    "All the methods within the scikit that you might want to explore and import when applicable"
   ]
  },
  {
   "cell_type": "code",
   "execution_count": 29,
   "metadata": {
    "collapsed": false
   },
   "outputs": [
    {
     "data": {
      "text/plain": [
       "['calibration',\n",
       " 'cluster',\n",
       " 'covariance',\n",
       " 'cross_decomposition',\n",
       " 'cross_validation',\n",
       " 'datasets',\n",
       " 'decomposition',\n",
       " 'dummy',\n",
       " 'ensemble',\n",
       " 'externals',\n",
       " 'feature_extraction',\n",
       " 'feature_selection',\n",
       " 'gaussian_process',\n",
       " 'grid_search',\n",
       " 'isotonic',\n",
       " 'kernel_approximation',\n",
       " 'kernel_ridge',\n",
       " 'lda',\n",
       " 'learning_curve',\n",
       " 'linear_model',\n",
       " 'manifold',\n",
       " 'metrics',\n",
       " 'mixture',\n",
       " 'multiclass',\n",
       " 'naive_bayes',\n",
       " 'neighbors',\n",
       " 'neural_network',\n",
       " 'pipeline',\n",
       " 'preprocessing',\n",
       " 'qda',\n",
       " 'random_projection',\n",
       " 'semi_supervised',\n",
       " 'svm',\n",
       " 'tree',\n",
       " 'discriminant_analysis',\n",
       " 'clone']"
      ]
     },
     "execution_count": 29,
     "metadata": {},
     "output_type": "execute_result"
    }
   ],
   "source": [
    "(sklearn.__dict__)['__all__']"
   ]
  },
  {
   "cell_type": "code",
   "execution_count": null,
   "metadata": {
    "collapsed": true
   },
   "outputs": [],
   "source": []
  }
 ],
 "metadata": {
  "kernelspec": {
   "display_name": "Python 3",
   "language": "python",
   "name": "python3"
  },
  "language_info": {
   "codemirror_mode": {
    "name": "ipython",
    "version": 3
   },
   "file_extension": ".py",
   "mimetype": "text/x-python",
   "name": "python",
   "nbconvert_exporter": "python",
   "pygments_lexer": "ipython3",
   "version": "3.5.1"
  }
 },
 "nbformat": 4,
 "nbformat_minor": 0
}
