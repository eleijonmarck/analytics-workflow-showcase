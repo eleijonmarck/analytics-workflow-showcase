{
 "cells": [
  {
   "cell_type": "markdown",
   "metadata": {},
   "source": [
    "# Data-mining and Introduction to Machine Learning using Python\n",
    "***"
   ]
  },
  {
   "cell_type": "markdown",
   "metadata": {},
   "source": [
    "##### Why and what is [IPython notebook](https://ipython.org/notebook.html)? easy to explore from the notebook and easy to share and visualize. Can be used with R, Julia, Python"
   ]
  },
  {
   "cell_type": "markdown",
   "metadata": {},
   "source": [
    "Data-mining, data-crunching, data-munging, data-wrangling. \n",
    "\n",
    "It all involves certain activities like data cleaning, data transformation, data preparation, data visualization.\n",
    "\n",
    "But it all starts with getting ***RAW DATA***"
   ]
  },
  {
   "cell_type": "markdown",
   "metadata": {},
   "source": [
    "# Getting raw data"
   ]
  },
  {
   "cell_type": "markdown",
   "metadata": {},
   "source": [
    "#### To first to some validating and analysis of data, we need to get the raw data"
   ]
  },
  {
   "cell_type": "markdown",
   "metadata": {},
   "source": [
    "### A http request"
   ]
  },
  {
   "cell_type": "code",
   "execution_count": null,
   "metadata": {
    "collapsed": false
   },
   "outputs": [],
   "source": [
    "import requests\n",
    "\n",
    "print(requests.get(\"http://www.blocket.se/stockholm?q=macbook air\").text)"
   ]
  },
  {
   "cell_type": "markdown",
   "metadata": {},
   "source": [
    "### Our research for buying a new computer\n",
    "\n",
    "#### Here we parse the html to a format which we can use"
   ]
  },
  {
   "cell_type": "code",
   "execution_count": null,
   "metadata": {
    "collapsed": false
   },
   "outputs": [],
   "source": [
    "import lxml.html\n",
    "\n",
    "page = lxml.html.parse(\"http://www.blocket.se/stockholm?q=macbook\")\n",
    "# This is probably illegal. Do not use at all\n",
    "items_data = []\n",
    "for el in page.getroot().find_class(\"media item_row ptm pbm nmt\"):\n",
    "    links = el.find_class(\"item_link\")\n",
    "    images = el.find_class(\"item_image\")\n",
    "    prices = el.find_class(\"list_price\")\n",
    "    if links and images and prices and prices[0].text:\n",
    "        items_data.append({\"name\": links[0].text,\n",
    "                           \"image\": images[0].attrib['src'],\n",
    "                           \"price\": int(prices[0].text.split(\":\")[0].replace(\" \", \"\"))})\n",
    "print(len(items_data))\n",
    "items_data"
   ]
  },
  {
   "cell_type": "code",
   "execution_count": null,
   "metadata": {
    "collapsed": false
   },
   "outputs": [],
   "source": [
    "%matplotlib inline\n",
    "prices = []\n",
    "prices_for_retina = []\n",
    "for item in items_data:\n",
    "    prices.append(item['price'])\n",
    "    if 'Retina' in item['name']:\n",
    "        prices_for_retina.append(item['price'])\n",
    "    \n",
    "import matplotlib.pyplot as plt\n",
    "plt.style.use('ggplot')"
   ]
  },
  {
   "cell_type": "code",
   "execution_count": null,
   "metadata": {
    "collapsed": false,
    "scrolled": true
   },
   "outputs": [],
   "source": [
    "plt.hist(prices, 5, histtype='bar')\n",
    "plt.hist(prices_for_retina, 2, histtype='bar',color='blue')\n",
    "plt.show()"
   ]
  },
  {
   "cell_type": "markdown",
   "metadata": {},
   "source": [
    "# Communicating with APIs"
   ]
  },
  {
   "cell_type": "code",
   "execution_count": null,
   "metadata": {
    "collapsed": false
   },
   "outputs": [],
   "source": [
    "import requests\n",
    "\n",
    "response = requests.get(\"https://www.googleapis.com/books/v1/volumes\", params={\"q\":\"machine learning\"})\n",
    "raw_data = response.json()\n",
    "titles = [item['volumeInfo']['title'] for item in raw_data['items']]\n",
    "titles"
   ]
  },
  {
   "cell_type": "markdown",
   "metadata": {},
   "source": [
    "***\n",
    "#### Apis - [reddit comments on apis](https://www.reddit.com/r/webdev/comments/3wrswc/what_are_some_fun_apis_to_play_with/)\n",
    "* Riot Games\n",
    "* [import.io](https://www.import.io/) - turns HTML pages to JSON\n",
    "* Spotify\n",
    "* Telegram\n",
    "* SoundCloud\n",
    "* Reddit\n",
    "* YouTube\n",
    "* Wunderground - Weather\n",
    "* Kandy - Massaging and video calling\n",
    "* Star Wars - All aboard the hype train\n",
    "* Marvel Comics\n",
    "* Mashape - API Market\n",
    "* [FoaaS](http://www.foaas.com/) - Fuck off as a Service\n",
    "* BreweryDB - Beer, beer, beer\n",
    "* Slack\n",
    "* Geo Names - Names of places\n",
    "* Common Crawl - Lots of data, petabytes of it\n",
    "* Programmers API - TV Show Info\n",
    "* FitBit - FitBit fitness tracker\n",
    "* JawBone - Jawbone fitness tracker\n",
    "* Moneypot - BitCoin Gambling\n",
    "* Steam - PCMR incoming\n",
    "* Twilio - VoiP & Text Messaging\n",
    "* Firebase - Build your own API\n",
    "* IBM Watson - Cognitive Computing with IBM\n",
    "* Lob - Email Postcards\n",
    "* Algolia - Search as a Service\n",
    "* Battle.net - Blizzard\n",
    "* Free Geo IP - Get geolocation of IP\n",
    "* The Counted - officer-involved killings in the US\n",
    "* Wolfram Alpha\n",
    "* IFTTT\n",
    "* USDA National Nutrient Database - United States Department of Agriculture\n",
    "* Twitter\n",
    "* Nutritionix - Nutrition DB\n",
    "* Geode Systems - lotsa data\n",
    "* Programmable Web API's - /thread (though keep going, this is fun)\n",
    "* Pokémon API\n",
    "* Open Weather Map - yet more weather"
   ]
  },
  {
   "cell_type": "markdown",
   "metadata": {},
   "source": [
    "#### Download some stock data using the api from [Quandl](https://www.quandl.com/)"
   ]
  },
  {
   "cell_type": "code",
   "execution_count": null,
   "metadata": {
    "collapsed": false
   },
   "outputs": [],
   "source": [
    "import pandas as pd\n",
    "import sys\n",
    "sys.path.append('/usr/local/lib/python3.5/site-packages/quandl/')\n",
    "import quandl\n",
    "\n",
    "df = quandl.get('WIKI/GOOGL')"
   ]
  },
  {
   "cell_type": "code",
   "execution_count": null,
   "metadata": {
    "collapsed": false
   },
   "outputs": [],
   "source": [
    "df.head()"
   ]
  },
  {
   "cell_type": "markdown",
   "metadata": {},
   "source": [
    "### Taking out \"relevant\" features, we want to at least make the data as easy as possible without losing information"
   ]
  },
  {
   "cell_type": "code",
   "execution_count": null,
   "metadata": {
    "collapsed": true
   },
   "outputs": [],
   "source": [
    "\n",
    "# We do not need any of the other columns \n",
    "# since these will have the same information only in a nicer format\n",
    "df = df[['Adj. Open',  'Adj. High',  'Adj. Low',  'Adj. Close', 'Adj. Volume']]\n",
    "\n",
    "# high - low percentage per day\n",
    "df['highlow_percentage'] = (df['Adj. High'] - df['Adj. Low']) / df['Adj. Close'] * 100.0\n",
    "\n",
    "# percentage change per day\n",
    "df['percentage_change'] = (df['Adj. Close'] - df['Adj. Open']) / df['Adj. Open'] * 100.0"
   ]
  },
  {
   "cell_type": "code",
   "execution_count": null,
   "metadata": {
    "collapsed": false
   },
   "outputs": [],
   "source": [
    "df = df[['Adj. Close', 'highlow_percentage', 'percentage_change', 'Adj. Volume']]\n",
    "df.head()"
   ]
  },
  {
   "cell_type": "markdown",
   "metadata": {},
   "source": [
    "# Machine Learning\n",
    "\n",
    "Subfield of artificial intelligence. \n",
    "\n",
    "***Learning from examples and experience***\n",
    "\n",
    "* AlphaGo competing in the game Go\n",
    "\n",
    "* Similar approach is used in learning to play Mario [MarIO](https://www.youtube.com/watch?v=qv6UVOQ0F44)\n",
    " * A great video for an introduction on neural networks\n",
    " \n",
    "***Why is Machine Learning?***\n",
    "\n",
    "How would start by identifying a fruit\n",
    "\n",
    "Difference between orange and an apple\n",
    "```python\n",
    "def define_fruit():\n",
    "    # lots of code\n",
    "\n",
    "def detect_colors(image):\n",
    "    #lots of code\n",
    "\n",
    "def analyze_shapes(image):\n",
    "    # more code\n",
    "\n",
    "def guess_texture(image):\n",
    "    # code.............\n",
    "    \n",
    "```\n",
    "\n",
    "Machine Learning Problems can be seperated into a few large categories:\n",
    "\n",
    "* ***supervised learning***, which data comes from additional attributes that we can predict. Can be either:\n",
    " * ***classification***, discrete output variables\n",
    " * ***regression***, continuous output variables\n",
    "* ***unsupervised learning***, which training data consist of input without any target values."
   ]
  },
  {
   "cell_type": "markdown",
   "metadata": {},
   "source": [
    "## Supervised Learning\n",
    "Features already in place\n",
    "\n",
    "* Collect training data\n",
    "* Train Classifier\n",
    "* Make Predictions\n",
    "\n",
    "We want to classify orange from apple\n",
    "\n",
    "Weight | Texture | Label\n",
    "--- | --- | ---\n",
    "150 | Bumpy | Orange\n",
    "170 | Bumpy | Orange\n",
    "140 | Soft | Apple\n",
    "130 | Soft | Apple\n",
    "... | ... | ..."
   ]
  },
  {
   "cell_type": "code",
   "execution_count": null,
   "metadata": {
    "collapsed": true
   },
   "outputs": [],
   "source": [
    "# input to the classifier\n",
    "features = [[140, 'soft'], [130,'soft'], [150,'bumpy'],[170,'bumpy']]\n",
    "\n",
    "# output for the classifier\n",
    "labels = ['apple', 'apple','orange','orange']\n",
    "\n",
    "# We need to change the type of input for the classifier so we rename the features into ints\n",
    "\n",
    "# 1 = 'soft', 0 = 'bumpy'\n",
    "features = [[140, 1], [130,1], [150,0],[170,0]]\n",
    "\n",
    "# 0 = 'apple', 1 = 'orange'\n",
    "labels = [0,0,1,1]"
   ]
  },
  {
   "cell_type": "markdown",
   "metadata": {},
   "source": [
    "### Now that we have the data let's make something from it"
   ]
  },
  {
   "cell_type": "code",
   "execution_count": null,
   "metadata": {
    "collapsed": false
   },
   "outputs": [],
   "source": [
    "from sklearn import tree\n",
    "\n",
    "# doesnt know anything yet\n",
    "clf = tree.DecisionTreeClassifier()"
   ]
  },
  {
   "cell_type": "markdown",
   "metadata": {},
   "source": [
    "Now we will train the data to the classifier with the training data that we have"
   ]
  },
  {
   "cell_type": "code",
   "execution_count": null,
   "metadata": {
    "collapsed": true
   },
   "outputs": [],
   "source": [
    "clf = clf.fit(features,labels)"
   ]
  },
  {
   "cell_type": "markdown",
   "metadata": {},
   "source": [
    "*** Notice that we want to predict something that is not in the training data ***"
   ]
  },
  {
   "cell_type": "code",
   "execution_count": null,
   "metadata": {
    "collapsed": false
   },
   "outputs": [],
   "source": [
    "clf.predict([[160,0]])"
   ]
  },
  {
   "cell_type": "markdown",
   "metadata": {},
   "source": [
    "# Classic Machine Learning Problem\n",
    "\n",
    "## [Iris flower data set](https://en.wikipedia.org/wiki/Iris_flower_data_set)\n",
    "\n",
    "Classify the type of flower based on \n",
    "* width\n",
    "* length\n",
    "* petal width \n",
    "* petal length\n",
    "\n",
    "scikit comes with some practices [datasets](http://scikit-learn.org/stable/datasets/)"
   ]
  },
  {
   "cell_type": "code",
   "execution_count": null,
   "metadata": {
    "collapsed": false
   },
   "outputs": [],
   "source": [
    "from sklearn.datasets import load_iris\n",
    "iris = load_iris()\n",
    "\n",
    "print(iris.feature_names)\n",
    "print(iris.target_names)\n",
    "print(iris.data[0])\n",
    "print(iris.target[0])"
   ]
  },
  {
   "cell_type": "markdown",
   "metadata": {},
   "source": [
    "# Preparing Data\n",
    "Examples used to \"test\" the classifiers accurracy.\n",
    "\n",
    "will ***NOT*** be part of the training data\n",
    "\n",
    "Usually a standard is to have ***80% training*** and ***20% testing***. But by no means a goto from the start\n",
    "\n",
    "### Testing data"
   ]
  },
  {
   "cell_type": "code",
   "execution_count": null,
   "metadata": {
    "collapsed": true
   },
   "outputs": [],
   "source": [
    "# dataset is constructed in a great way\n",
    "# so we can get testing data from each example by taking 0,50,100\n",
    "\n",
    "test_index = [0,50,100]"
   ]
  },
  {
   "cell_type": "markdown",
   "metadata": {},
   "source": [
    "### Training data"
   ]
  },
  {
   "cell_type": "code",
   "execution_count": null,
   "metadata": {
    "collapsed": false
   },
   "outputs": [],
   "source": [
    "# built based on c computation and mutation of arrays, i.e. its pretty fast\n",
    "import numpy as np\n",
    "\n",
    "# training data\n",
    "train_target = np.delete(iris.target, test_index)\n",
    "train_data = np.delete(iris.data, test_index, axis=0)\n",
    "\n",
    "# testing data\n",
    "test_target = iris.target[test_index]\n",
    "test_data = iris.data[test_index]"
   ]
  },
  {
   "cell_type": "markdown",
   "metadata": {},
   "source": [
    "## Training classifier"
   ]
  },
  {
   "cell_type": "code",
   "execution_count": null,
   "metadata": {
    "collapsed": false
   },
   "outputs": [],
   "source": [
    "clf = tree.DecisionTreeClassifier()\n",
    "clf.fit(train_data, train_target)\n",
    "\n",
    "# We expect the classifier to give us [0,1,2] from test_target\n",
    "print(test_target)\n",
    "\n",
    "print(clf.predict(test_data))"
   ]
  },
  {
   "cell_type": "markdown",
   "metadata": {},
   "source": [
    "# DONE! we have now made our first machine learning\n",
    "\n",
    "### Classification\n",
    "* Naive Bayes\n",
    "* Decision trees / Random Forest\n",
    "* SVM\n",
    "* KNN\n",
    "* ... many more!\n",
    "\n",
    "Recall the features that we have, we need to evaluate them carefully.\n",
    "\n",
    "\n",
    "next we will visualize the decision tree to go into more in depth of what actually happens\n",
    "\n",
    "Code is taken from scikits homepage on [decision tree visualization](http://scikit-learn.org/stable/modules/tree.html)\n",
    "\n",
    "## Visualize the Decision Tree Classifier"
   ]
  },
  {
   "cell_type": "code",
   "execution_count": null,
   "metadata": {
    "collapsed": false
   },
   "outputs": [],
   "source": [
    "import sys\n",
    "sys.path.append('/usr/local/lib/python3.5/site-packages/pydot/')\n",
    "\n",
    "import pydotplus\n",
    "from sklearn.externals.six import StringIO\n",
    "from IPython.display import Image  \n",
    "dot_data = StringIO()  \n",
    "tree.export_graphviz(clf, out_file=dot_data,  \n",
    "                         feature_names=iris.feature_names,  \n",
    "                         class_names=iris.target_names,  \n",
    "                         filled=True, rounded=True,  \n",
    "                         special_characters=True)  \n",
    "graph = pydotplus.graph_from_dot_data(dot_data.getvalue()) \n",
    "graph.write_pdf(\"iris.pdf\")\n",
    "Image(graph.create_png()) "
   ]
  },
  {
   "cell_type": "code",
   "execution_count": null,
   "metadata": {
    "collapsed": false
   },
   "outputs": [],
   "source": [
    "# first testing flower\n",
    "print(test_data[0], test_target[0])\n",
    "\n",
    "print(iris.feature_names)\n",
    "print(\"targets: \",iris.target_names)"
   ]
  },
  {
   "cell_type": "code",
   "execution_count": null,
   "metadata": {
    "collapsed": false
   },
   "outputs": [],
   "source": [
    "# second testing flower\n",
    "print(test_data[1], test_target[0])"
   ]
  },
  {
   "cell_type": "markdown",
   "metadata": {},
   "source": [
    "\n",
    "\n",
    "\n",
    "# Parting words!\n",
    "\n",
    "### *Choosing good features is one of your most important jobs*\n",
    "\n",
    "cause the ML-models are dumb....\n",
    "\n",
    "### *No free hunch*\n",
    "\n",
    "* be skeptic and try to find loopholes with the data\n",
    "* Models get a score function and can be cross-validated but the is for another time\n",
    "\n",
    "\n",
    "# Hope it was fun everyone! Please give feedback on what can be improved!"
   ]
  },
  {
   "cell_type": "code",
   "execution_count": null,
   "metadata": {
    "collapsed": true
   },
   "outputs": [],
   "source": []
  }
 ],
 "metadata": {
  "kernelspec": {
   "display_name": "Python 3",
   "language": "python",
   "name": "python3"
  },
  "language_info": {
   "codemirror_mode": {
    "name": "ipython",
    "version": 3
   },
   "file_extension": ".py",
   "mimetype": "text/x-python",
   "name": "python",
   "nbconvert_exporter": "python",
   "pygments_lexer": "ipython3",
   "version": "3.5.0"
  }
 },
 "nbformat": 4,
 "nbformat_minor": 0
}
