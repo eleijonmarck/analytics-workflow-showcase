{
 "cells": [
  {
   "cell_type": "markdown",
   "metadata": {},
   "source": [
    "# Customer Churn\n",
    "\n",
    "\"Churn Rate\" - measure of the number of individuals or items moing out of a collective group over a specific period of time. - Wikipedia\n",
    "\n",
    "<img src=\"https://www.statuscake.com/wp-content/uploads/2016/02/Customer-Churn.jpg\" style=\"width:70%\" />\n",
    "\n",
    "Churn (loss of customers to competition) is a problem for any company because it is more expensive to acquire a new customer than to keep your existing one from leaving. This example we will examine the churn for telecom companies.\n",
    "\n",
    "## Binary Classification\n",
    "\n",
    "This labeling schema is arguably the most common classification schema which is called binary classification as I have only two classes to predict(churn or not). Even some of the multi-class classification problems could be expressed as a binary classification schema(one vs other classes). \n",
    "\n",
    "<img src=\"http://www.holehouse.org/mlclass/06_Logistic_Regression_files/Image%20[23].png\" style=\"width:70%\"/>\n",
    "\n",
    "Therefore, it is a powerful/basic classification schema that you would use approximately 83%(put some random number > 50) of your machine learning problems."
   ]
  },
  {
   "cell_type": "code",
   "execution_count": null,
   "metadata": {
    "collapsed": true
   },
   "outputs": [],
   "source": []
  }
 ],
 "metadata": {
  "kernelspec": {
   "display_name": "Python 3",
   "language": "python",
   "name": "python3"
  },
  "language_info": {
   "codemirror_mode": {
    "name": "ipython",
    "version": 3
   },
   "file_extension": ".py",
   "mimetype": "text/x-python",
   "name": "python",
   "nbconvert_exporter": "python",
   "pygments_lexer": "ipython3",
   "version": "3.5.1"
  }
 },
 "nbformat": 4,
 "nbformat_minor": 0
}
